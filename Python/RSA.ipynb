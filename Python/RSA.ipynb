{
 "cells": [
  {
   "cell_type": "code",
   "execution_count": 1,
   "id": "532ae9ee",
   "metadata": {},
   "outputs": [],
   "source": [
    "import random\n",
    "import math"
   ]
  },
  {
   "cell_type": "code",
   "execution_count": 2,
   "id": "b81f7e0c",
   "metadata": {},
   "outputs": [],
   "source": [
    "p = random.choice((307, 499, 929))\n",
    "q = random.choice((173, 569, 997))\n",
    "n = p * q"
   ]
  },
  {
   "cell_type": "code",
   "execution_count": 3,
   "id": "2cdd1281",
   "metadata": {},
   "outputs": [],
   "source": [
    "MCD = math.gcd(p-1, q-1)\n",
    "m = int((p-1) * (q-1) / MCD)"
   ]
  },
  {
   "cell_type": "code",
   "execution_count": 4,
   "id": "f3d36c57",
   "metadata": {},
   "outputs": [],
   "source": [
    "for i in range (2, m-1):\n",
    "    if(math.gcd(i, m)==1):\n",
    "         c = i"
   ]
  },
  {
   "cell_type": "code",
   "execution_count": 5,
   "id": "8a277ce6",
   "metadata": {},
   "outputs": [],
   "source": [
    "for j in range (0, m-1):\n",
    "    if( (c * j) % m == 1):\n",
    "        d = j"
   ]
  },
  {
   "cell_type": "code",
   "execution_count": 6,
   "id": "301e28c1",
   "metadata": {},
   "outputs": [
    {
     "name": "stdout",
     "output_type": "stream",
     "text": [
      "p= 499, q= 173, m= 42828\n"
     ]
    }
   ],
   "source": [
    "print(f\"p= {p}, q= {q}, m= {m}\")"
   ]
  },
  {
   "cell_type": "code",
   "execution_count": 7,
   "id": "5fc36a06",
   "metadata": {},
   "outputs": [
    {
     "name": "stdout",
     "output_type": "stream",
     "text": [
      "chiave privata = 17131\n",
      "chiave pubblica = 42823, n = 86327\n"
     ]
    }
   ],
   "source": [
    "print(f\"chiave privata = {d}\")\n",
    "print(f\"chiave pubblica = {c}, n = {n}\")"
   ]
  },
  {
   "cell_type": "markdown",
   "id": "28033dcb",
   "metadata": {},
   "source": [
    "### PUBBLICO"
   ]
  },
  {
   "cell_type": "code",
   "execution_count": 10,
   "id": "4c2f7ce0",
   "metadata": {},
   "outputs": [
    {
     "name": "stdout",
     "output_type": "stream",
     "text": [
      "messaggio = 49306\n"
     ]
    }
   ],
   "source": [
    "a = random.randint(n//2, n)\n",
    "print(f\"messaggio = {a}\")"
   ]
  },
  {
   "cell_type": "markdown",
   "id": "f1f9c0d8",
   "metadata": {},
   "source": [
    "#### mittente"
   ]
  },
  {
   "cell_type": "code",
   "execution_count": 11,
   "id": "fc7c1eb1",
   "metadata": {},
   "outputs": [],
   "source": [
    "b= (a ** c) % n"
   ]
  },
  {
   "cell_type": "markdown",
   "id": "9bc432b9",
   "metadata": {},
   "source": [
    "#### destinatario\n",
    "(riceve b)"
   ]
  },
  {
   "cell_type": "code",
   "execution_count": 12,
   "id": "b6d21593",
   "metadata": {},
   "outputs": [
    {
     "data": {
      "text/plain": [
       "49306"
      ]
     },
     "execution_count": 12,
     "metadata": {},
     "output_type": "execute_result"
    }
   ],
   "source": [
    "(b ** d) % n"
   ]
  },
  {
   "cell_type": "code",
   "execution_count": null,
   "id": "6795d6cd",
   "metadata": {},
   "outputs": [],
   "source": []
  }
 ],
 "metadata": {
  "kernelspec": {
   "display_name": "Python 3 (ipykernel)",
   "language": "python",
   "name": "python3"
  },
  "language_info": {
   "codemirror_mode": {
    "name": "ipython",
    "version": 3
   },
   "file_extension": ".py",
   "mimetype": "text/x-python",
   "name": "python",
   "nbconvert_exporter": "python",
   "pygments_lexer": "ipython3",
   "version": "3.11.4"
  }
 },
 "nbformat": 4,
 "nbformat_minor": 5
}
